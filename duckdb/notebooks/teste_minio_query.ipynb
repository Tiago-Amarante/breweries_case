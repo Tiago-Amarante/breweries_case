{
 "cells": [
  {
   "cell_type": "code",
   "execution_count": 26,
   "id": "16aabed3-ef0f-403f-a617-8f0a92d3777e",
   "metadata": {},
   "outputs": [
    {
     "ename": "IOException",
     "evalue": "IO Error: SSLConnection error for HTTP HEAD to 'https://minio:9000/bronze/breweries/part-00000-17daba81-b7da-44ad-bcb0-352a30d48a3f-c000.snappy.parquet'",
     "output_type": "error",
     "traceback": [
      "\u001b[0;31m---------------------------------------------------------------------------\u001b[0m",
      "\u001b[0;31mIOException\u001b[0m                               Traceback (most recent call last)",
      "Cell \u001b[0;32mIn[26], line 20\u001b[0m\n\u001b[1;32m     11\u001b[0m conn\u001b[38;5;241m.\u001b[39mexecute(\u001b[38;5;124m\"\"\"\u001b[39m\n\u001b[1;32m     12\u001b[0m \u001b[38;5;124mSET s3_endpoint=\u001b[39m\u001b[38;5;124m'\u001b[39m\u001b[38;5;124mminio:9000\u001b[39m\u001b[38;5;124m'\u001b[39m\u001b[38;5;124m;\u001b[39m\n\u001b[1;32m     13\u001b[0m \u001b[38;5;124mSET s3_access_key_id=\u001b[39m\u001b[38;5;124m'\u001b[39m\u001b[38;5;124mminioadmin\u001b[39m\u001b[38;5;124m'\u001b[39m\u001b[38;5;124m;\u001b[39m\n\u001b[0;32m   (...)\u001b[0m\n\u001b[1;32m     16\u001b[0m \u001b[38;5;124mSET s3_url_style=\u001b[39m\u001b[38;5;124m'\u001b[39m\u001b[38;5;124mpath\u001b[39m\u001b[38;5;124m'\u001b[39m\u001b[38;5;124m;\u001b[39m\n\u001b[1;32m     17\u001b[0m \u001b[38;5;124m\"\"\"\u001b[39m)\n\u001b[1;32m     19\u001b[0m \u001b[38;5;66;03m# Query bronze layer\u001b[39;00m\n\u001b[0;32m---> 20\u001b[0m bronze_df \u001b[38;5;241m=\u001b[39m \u001b[43mconn\u001b[49m\u001b[38;5;241;43m.\u001b[39;49m\u001b[43mexecute\u001b[49m\u001b[43m(\u001b[49m\u001b[38;5;124;43m\"\u001b[39;49m\u001b[38;5;124;43mSELECT * FROM read_parquet(\u001b[39;49m\u001b[38;5;124;43m'\u001b[39;49m\u001b[38;5;124;43ms3://bronze/breweries/part-00000-17daba81-b7da-44ad-bcb0-352a30d48a3f-c000.snappy.parquet\u001b[39;49m\u001b[38;5;124;43m'\u001b[39;49m\u001b[38;5;124;43m) LIMIT 10\u001b[39;49m\u001b[38;5;124;43m\"\u001b[39;49m\u001b[43m)\u001b[49m\u001b[38;5;241m.\u001b[39mfetchdf()\n\u001b[1;32m     21\u001b[0m \u001b[38;5;28mprint\u001b[39m(\u001b[38;5;124m\"\u001b[39m\u001b[38;5;124mBronze data:\u001b[39m\u001b[38;5;124m\"\u001b[39m)\n\u001b[1;32m     22\u001b[0m \u001b[38;5;28mprint\u001b[39m(bronze_df)\n",
      "\u001b[0;31mIOException\u001b[0m: IO Error: SSLConnection error for HTTP HEAD to 'https://minio:9000/bronze/breweries/part-00000-17daba81-b7da-44ad-bcb0-352a30d48a3f-c000.snappy.parquet'"
     ]
    }
   ],
   "source": [
    "import duckdb\n",
    "\n",
    "# Create a connection\n",
    "conn = duckdb.connect(':memory:')\n",
    "\n",
    "# Load extensions for S3 access\n",
    "conn.execute(\"INSTALL http; LOAD http;\")\n",
    "conn.execute(\"INSTALL parquet; LOAD parquet;\")\n",
    "\n",
    "# Configure S3 connection\n",
    "conn.execute(\"\"\"\n",
    "SET s3_endpoint='minio:9000';\n",
    "SET s3_access_key_id='minioadmin';\n",
    "SET s3_secret_access_key='minioadmin';\n",
    "SET s3_region='us-east-1';\n",
    "SET s3_url_style='path';\n",
    "\"\"\")\n",
    "\n",
    "# Query bronze layer\n",
    "bronze_df = conn.execute(\"SELECT * FROM read_parquet('s3://bronze/breweries/part-00000-17daba81-b7da-44ad-bcb0-352a30d48a3f-c000.snappy.parquet') LIMIT 10\").fetchdf()\n",
    "print(\"Bronze data:\")\n",
    "print(bronze_df)\n",
    "\n",
    "# Query silver layer\n",
    "silver_df = conn.execute(\"SELECT * FROM 's3://silver/breweries' LIMIT 10\").fetchdf()\n",
    "print(\"Silver data:\")\n",
    "print(silver_df)\n",
    "\n",
    "# Query gold layer\n",
    "gold_df = conn.execute(\"SELECT * FROM 's3://gold/breweries_per_location' LIMIT 10\").fetchdf()\n",
    "print(\"Gold data:\")\n",
    "print(gold_df)\n",
    "\n",
    "# Run analytics queries\n",
    "analytics = conn.execute(\"\"\"\n",
    "SELECT country, SUM(brewery_count) as total_breweries \n",
    "FROM 's3://gold/breweries_per_location' \n",
    "GROUP BY country \n",
    "ORDER BY total_breweries DESC\n",
    "\"\"\").fetchdf()\n",
    "print(\"Analytics results:\")\n",
    "print(analytics)"
   ]
  }
 ],
 "metadata": {
  "kernelspec": {
   "display_name": "Python 3 (ipykernel)",
   "language": "python",
   "name": "python3"
  },
  "language_info": {
   "codemirror_mode": {
    "name": "ipython",
    "version": 3
   },
   "file_extension": ".py",
   "mimetype": "text/x-python",
   "name": "python",
   "nbconvert_exporter": "python",
   "pygments_lexer": "ipython3",
   "version": "3.9.21"
  }
 },
 "nbformat": 4,
 "nbformat_minor": 5
}

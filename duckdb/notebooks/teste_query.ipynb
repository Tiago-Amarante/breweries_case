{
 "cells": [
  {
   "cell_type": "code",
   "execution_count": 2,
   "id": "c6470a55-cb58-4ced-850e-fc9877723c67",
   "metadata": {},
   "outputs": [
    {
     "name": "stdout",
     "output_type": "stream",
     "text": [
      "['s3://bronze/breweries/part-00000-17daba81-b7da-44ad-bcb0-352a30d48a3f-c000.snappy.parquet', 's3://bronze/breweries/part-00000-7c2161ae-085c-4df9-83d6-464ff688c0e1-c000.snappy.parquet', 's3://bronze/breweries/part-00000-bd4bf2af-f6c8-4564-a7b0-9cc26fda9225-c000.snappy.parquet', 's3://bronze/breweries/part-00001-17daba81-b7da-44ad-bcb0-352a30d48a3f-c000.snappy.parquet', 's3://bronze/breweries/part-00001-7c2161ae-085c-4df9-83d6-464ff688c0e1-c000.snappy.parquet', 's3://bronze/breweries/part-00001-bd4bf2af-f6c8-4564-a7b0-9cc26fda9225-c000.snappy.parquet', 's3://bronze/breweries/part-00002-17daba81-b7da-44ad-bcb0-352a30d48a3f-c000.snappy.parquet', 's3://bronze/breweries/part-00002-7c2161ae-085c-4df9-83d6-464ff688c0e1-c000.snappy.parquet', 's3://bronze/breweries/part-00002-bd4bf2af-f6c8-4564-a7b0-9cc26fda9225-c000.snappy.parquet', 's3://bronze/breweries/part-00003-17daba81-b7da-44ad-bcb0-352a30d48a3f-c000.snappy.parquet', 's3://bronze/breweries/part-00003-7c2161ae-085c-4df9-83d6-464ff688c0e1-c000.snappy.parquet', 's3://bronze/breweries/part-00003-bd4bf2af-f6c8-4564-a7b0-9cc26fda9225-c000.snappy.parquet', 's3://bronze/breweries/part-00004-17daba81-b7da-44ad-bcb0-352a30d48a3f-c000.snappy.parquet', 's3://bronze/breweries/part-00004-7c2161ae-085c-4df9-83d6-464ff688c0e1-c000.snappy.parquet', 's3://bronze/breweries/part-00004-bd4bf2af-f6c8-4564-a7b0-9cc26fda9225-c000.snappy.parquet', 's3://bronze/breweries/part-00005-17daba81-b7da-44ad-bcb0-352a30d48a3f-c000.snappy.parquet', 's3://bronze/breweries/part-00005-7c2161ae-085c-4df9-83d6-464ff688c0e1-c000.snappy.parquet', 's3://bronze/breweries/part-00005-bd4bf2af-f6c8-4564-a7b0-9cc26fda9225-c000.snappy.parquet', 's3://bronze/breweries/part-00006-17daba81-b7da-44ad-bcb0-352a30d48a3f-c000.snappy.parquet', 's3://bronze/breweries/part-00006-7c2161ae-085c-4df9-83d6-464ff688c0e1-c000.snappy.parquet', 's3://bronze/breweries/part-00006-bd4bf2af-f6c8-4564-a7b0-9cc26fda9225-c000.snappy.parquet', 's3://bronze/breweries/part-00007-17daba81-b7da-44ad-bcb0-352a30d48a3f-c000.snappy.parquet', 's3://bronze/breweries/part-00007-7c2161ae-085c-4df9-83d6-464ff688c0e1-c000.snappy.parquet', 's3://bronze/breweries/part-00007-bd4bf2af-f6c8-4564-a7b0-9cc26fda9225-c000.snappy.parquet', 's3://bronze/breweries/part-00008-17daba81-b7da-44ad-bcb0-352a30d48a3f-c000.snappy.parquet', 's3://bronze/breweries/part-00008-7c2161ae-085c-4df9-83d6-464ff688c0e1-c000.snappy.parquet', 's3://bronze/breweries/part-00008-bd4bf2af-f6c8-4564-a7b0-9cc26fda9225-c000.snappy.parquet', 's3://bronze/breweries/part-00009-17daba81-b7da-44ad-bcb0-352a30d48a3f-c000.snappy.parquet', 's3://bronze/breweries/part-00009-7c2161ae-085c-4df9-83d6-464ff688c0e1-c000.snappy.parquet', 's3://bronze/breweries/part-00009-bd4bf2af-f6c8-4564-a7b0-9cc26fda9225-c000.snappy.parquet', 's3://bronze/breweries/part-00010-17daba81-b7da-44ad-bcb0-352a30d48a3f-c000.snappy.parquet', 's3://bronze/breweries/part-00010-7c2161ae-085c-4df9-83d6-464ff688c0e1-c000.snappy.parquet', 's3://bronze/breweries/part-00010-bd4bf2af-f6c8-4564-a7b0-9cc26fda9225-c000.snappy.parquet', 's3://bronze/breweries/part-00011-17daba81-b7da-44ad-bcb0-352a30d48a3f-c000.snappy.parquet', 's3://bronze/breweries/part-00011-7c2161ae-085c-4df9-83d6-464ff688c0e1-c000.snappy.parquet', 's3://bronze/breweries/part-00011-bd4bf2af-f6c8-4564-a7b0-9cc26fda9225-c000.snappy.parquet']\n"
     ]
    },
    {
     "ename": "IOException",
     "evalue": "IO Error: SSLConnection error for HTTP HEAD to 'https://minio:9000/bronze/breweries/part-00000-17daba81-b7da-44ad-bcb0-352a30d48a3f-c000.snappy.parquet'",
     "output_type": "error",
     "traceback": [
      "\u001b[0;31m---------------------------------------------------------------------------\u001b[0m",
      "\u001b[0;31mIOException\u001b[0m                               Traceback (most recent call last)",
      "Cell \u001b[0;32mIn[2], line 56\u001b[0m\n\u001b[1;32m     52\u001b[0m \u001b[38;5;66;03m# Query the Parquet files in MinIO\u001b[39;00m\n\u001b[1;32m     53\u001b[0m query \u001b[38;5;241m=\u001b[39m \u001b[38;5;124mf\u001b[39m\u001b[38;5;124m\"\"\"\u001b[39m\n\u001b[1;32m     54\u001b[0m \u001b[38;5;124m    SELECT * FROM parquet_scan(\u001b[39m\u001b[38;5;132;01m{\u001b[39;00ms3_urls\u001b[38;5;132;01m}\u001b[39;00m\u001b[38;5;124m)\u001b[39m\n\u001b[1;32m     55\u001b[0m \u001b[38;5;124m\"\"\"\u001b[39m\n\u001b[0;32m---> 56\u001b[0m df \u001b[38;5;241m=\u001b[39m \u001b[43mcon\u001b[49m\u001b[38;5;241;43m.\u001b[39;49m\u001b[43mexecute\u001b[49m\u001b[43m(\u001b[49m\u001b[43mquery\u001b[49m\u001b[43m)\u001b[49m\u001b[38;5;241m.\u001b[39mfetchdf()\n",
      "\u001b[0;31mIOException\u001b[0m: IO Error: SSLConnection error for HTTP HEAD to 'https://minio:9000/bronze/breweries/part-00000-17daba81-b7da-44ad-bcb0-352a30d48a3f-c000.snappy.parquet'"
     ]
    }
   ],
   "source": [
    "import duckdb\n",
    "import boto3\n",
    "import os\n",
    "# Configure S3 connection\n",
    "MINIO_ENDPOINT = os.environ.get(\"S3_ENDPOINT\", \"http://minio:9000\")\n",
    "MINIO_ACCESS_KEY = os.environ.get(\"S3_ACCESS_KEY\", \"minioadmin\")\n",
    "MINIO_SECRET_KEY = os.environ.get(\"S3_SECRET_KEY\", \"minioadmin\")\n",
    "s3_region = os.environ.get(\"S3_REGION\", \"us-east-1\")\n",
    "BUCKET_NAME = \"bronze\"\n",
    "PARQUET_FOLDER = \"breweries\"  # Folder inside the bucket\n",
    "\n",
    "# Initialize MinIO S3 client\n",
    "s3_client = boto3.client(\n",
    "    \"s3\",\n",
    "    endpoint_url=MINIO_ENDPOINT,\n",
    "    aws_access_key_id=MINIO_ACCESS_KEY,\n",
    "    aws_secret_access_key=MINIO_SECRET_KEY,\n",
    ")\n",
    "\n",
    "# List all Parquet files in MinIO bucket\n",
    "def list_parquet_files(bucket, folder):\n",
    "    response = s3_client.list_objects_v2(Bucket=bucket, Prefix=folder)\n",
    "    if \"Contents\" in response:\n",
    "        return [obj[\"Key\"] for obj in response[\"Contents\"] if obj[\"Key\"].endswith(\".parquet\")]\n",
    "    return []\n",
    "\n",
    "# Generate proper S3 URLs for DuckDB\n",
    "def generate_s3_urls(bucket, parquet_files):\n",
    "    return [f\"s3://{bucket}/{file}\" for file in parquet_files]\n",
    "\n",
    "# Get list of parquet files\n",
    "parquet_files = list_parquet_files(BUCKET_NAME, PARQUET_FOLDER)\n",
    "if not parquet_files:\n",
    "    print(\"No Parquet files found.\")\n",
    "    exit()\n",
    "\n",
    "# Convert to S3 URLs\n",
    "s3_urls = generate_s3_urls(BUCKET_NAME, parquet_files)\n",
    "print(s3_urls)\n",
    "# Connect DuckDB and enable S3 support\n",
    "con = duckdb.connect(database=\":memory:\")\n",
    "con.execute(f\"\"\"\n",
    "    INSTALL httpfs;\n",
    "    LOAD httpfs;\n",
    "SET s3_region='us-east-1';\n",
    "SET s3_access_key_id='minioadmin';\n",
    "SET s3_secret_access_key='minioadmin';\n",
    "SET s3_endpoint='minio:9000';\n",
    "SET s3_url_style='path';\n",
    "\"\"\")\n",
    "\n",
    "# Query the Parquet files in MinIO\n",
    "query = f\"\"\"\n",
    "    SELECT * FROM parquet_scan({s3_urls})\n",
    "\"\"\"\n",
    "df = con.execute(query).fetchdf()"
   ]
  },
  {
   "cell_type": "code",
   "execution_count": 7,
   "id": "032cc2a3-b0a0-4c7b-8cad-ad8f276e08c5",
   "metadata": {},
   "outputs": [
    {
     "ename": "NameError",
     "evalue": "name 's3_client' is not defined",
     "output_type": "error",
     "traceback": [
      "\u001b[0;31m---------------------------------------------------------------------------\u001b[0m",
      "\u001b[0;31mNameError\u001b[0m                                 Traceback (most recent call last)",
      "Cell \u001b[0;32mIn[7], line 14\u001b[0m\n\u001b[1;32m     12\u001b[0m PARQUET_FOLDER \u001b[38;5;241m=\u001b[39m \u001b[38;5;124m'\u001b[39m\u001b[38;5;124mbreweries\u001b[39m\u001b[38;5;124m'\u001b[39m\n\u001b[1;32m     13\u001b[0m \u001b[38;5;66;03m# Get list of parquet files\u001b[39;00m\n\u001b[0;32m---> 14\u001b[0m parquet_files \u001b[38;5;241m=\u001b[39m \u001b[43mlist_parquet_files\u001b[49m\u001b[43m(\u001b[49m\u001b[43mBUCKET_NAME\u001b[49m\u001b[43m,\u001b[49m\u001b[43m \u001b[49m\u001b[43mPARQUET_FOLDER\u001b[49m\u001b[43m)\u001b[49m\n",
      "Cell \u001b[0;32mIn[7], line 3\u001b[0m, in \u001b[0;36mlist_parquet_files\u001b[0;34m(bucket, folder)\u001b[0m\n\u001b[1;32m      2\u001b[0m \u001b[38;5;28;01mdef\u001b[39;00m\u001b[38;5;250m \u001b[39m\u001b[38;5;21mlist_parquet_files\u001b[39m(bucket, folder):\n\u001b[0;32m----> 3\u001b[0m     response \u001b[38;5;241m=\u001b[39m \u001b[43ms3_client\u001b[49m\u001b[38;5;241m.\u001b[39mlist_objects_v2(Bucket\u001b[38;5;241m=\u001b[39mbucket, Prefix\u001b[38;5;241m=\u001b[39mfolder)\n\u001b[1;32m      4\u001b[0m     \u001b[38;5;28;01mif\u001b[39;00m \u001b[38;5;124m\"\u001b[39m\u001b[38;5;124mContents\u001b[39m\u001b[38;5;124m\"\u001b[39m \u001b[38;5;129;01min\u001b[39;00m response:\n\u001b[1;32m      5\u001b[0m         \u001b[38;5;28;01mreturn\u001b[39;00m [obj[\u001b[38;5;124m\"\u001b[39m\u001b[38;5;124mKey\u001b[39m\u001b[38;5;124m\"\u001b[39m] \u001b[38;5;28;01mfor\u001b[39;00m obj \u001b[38;5;129;01min\u001b[39;00m response[\u001b[38;5;124m\"\u001b[39m\u001b[38;5;124mContents\u001b[39m\u001b[38;5;124m\"\u001b[39m] \u001b[38;5;28;01mif\u001b[39;00m obj[\u001b[38;5;124m\"\u001b[39m\u001b[38;5;124mKey\u001b[39m\u001b[38;5;124m\"\u001b[39m]\u001b[38;5;241m.\u001b[39mendswith(\u001b[38;5;124m\"\u001b[39m\u001b[38;5;124m.parquet\u001b[39m\u001b[38;5;124m\"\u001b[39m)]\n",
      "\u001b[0;31mNameError\u001b[0m: name 's3_client' is not defined"
     ]
    }
   ],
   "source": [
    "# List all Parquet files in MinIO bucket\n",
    "def list_parquet_files(bucket, folder):\n",
    "    response = s3_client.list_objects_v2(Bucket=bucket, Prefix=folder)\n",
    "    if \"Contents\" in response:\n",
    "        return [obj[\"Key\"] for obj in response[\"Contents\"] if obj[\"Key\"].endswith(\".parquet\")]\n",
    "    return []\n",
    "\n",
    "# Generate MinIO S3 URLs for DuckDB\n",
    "def generate_s3_urls(bucket, parquet_files):\n",
    "    return [f\"s3://{bucket}/{file}\" for file in parquet_files]\n",
    "BUCKET_NAME = 'bronze'\n",
    "PARQUET_FOLDER = 'breweries'\n",
    "# Get list of parquet files\n",
    "parquet_files = list_parquet_files(BUCKET_NAME, PARQUET_FOLDER)\n"
   ]
  },
  {
   "cell_type": "code",
   "execution_count": null,
   "id": "199dea42-6dee-4f0d-88be-5bec056d6ad2",
   "metadata": {},
   "outputs": [],
   "source": []
  }
 ],
 "metadata": {
  "kernelspec": {
   "display_name": "Python 3 (ipykernel)",
   "language": "python",
   "name": "python3"
  },
  "language_info": {
   "codemirror_mode": {
    "name": "ipython",
    "version": 3
   },
   "file_extension": ".py",
   "mimetype": "text/x-python",
   "name": "python",
   "nbconvert_exporter": "python",
   "pygments_lexer": "ipython3",
   "version": "3.9.21"
  }
 },
 "nbformat": 4,
 "nbformat_minor": 5
}
